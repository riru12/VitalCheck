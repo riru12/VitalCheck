{
 "cells": [
  {
   "attachments": {},
   "cell_type": "markdown",
   "id": "bec9e94f",
   "metadata": {},
   "source": [
    "### Breast Cancer Detection Using Support Vector Machines (SVM) and Multilayer Perceptron (MLP)\n",
    "\n",
    "In this exercise, you will use SVM to classify whether a patient has benign or malignant cancer cells using the given breast cancer dataset. \n",
    "\n",
    "Fill in the required code for the exercise in Jupyter Notebook. Be sure to run the entire notebook so that the results are shown. Rename the notebook with your last name and submit."
   ]
  },
  {
   "attachments": {},
   "cell_type": "markdown",
   "id": "0d837950",
   "metadata": {},
   "source": [
    "### Import libraries and dataset"
   ]
  },
  {
   "cell_type": "code",
   "execution_count": 161,
   "id": "19738aa3",
   "metadata": {},
   "outputs": [
    {
     "data": {
      "text/html": [
       "<div>\n",
       "<style scoped>\n",
       "    .dataframe tbody tr th:only-of-type {\n",
       "        vertical-align: middle;\n",
       "    }\n",
       "\n",
       "    .dataframe tbody tr th {\n",
       "        vertical-align: top;\n",
       "    }\n",
       "\n",
       "    .dataframe thead th {\n",
       "        text-align: right;\n",
       "    }\n",
       "</style>\n",
       "<table border=\"1\" class=\"dataframe\">\n",
       "  <thead>\n",
       "    <tr style=\"text-align: right;\">\n",
       "      <th></th>\n",
       "      <th>age</th>\n",
       "      <th>sex</th>\n",
       "      <th>cp</th>\n",
       "      <th>trtbps</th>\n",
       "      <th>chol</th>\n",
       "      <th>fbs</th>\n",
       "      <th>restecg</th>\n",
       "      <th>thalachh</th>\n",
       "      <th>exng</th>\n",
       "      <th>oldpeak</th>\n",
       "      <th>slp</th>\n",
       "      <th>caa</th>\n",
       "      <th>thall</th>\n",
       "      <th>output</th>\n",
       "    </tr>\n",
       "  </thead>\n",
       "  <tbody>\n",
       "    <tr>\n",
       "      <th>0</th>\n",
       "      <td>63</td>\n",
       "      <td>1</td>\n",
       "      <td>3</td>\n",
       "      <td>145</td>\n",
       "      <td>233</td>\n",
       "      <td>1</td>\n",
       "      <td>0</td>\n",
       "      <td>150</td>\n",
       "      <td>0</td>\n",
       "      <td>2.3</td>\n",
       "      <td>0</td>\n",
       "      <td>0</td>\n",
       "      <td>1</td>\n",
       "      <td>1</td>\n",
       "    </tr>\n",
       "    <tr>\n",
       "      <th>1</th>\n",
       "      <td>37</td>\n",
       "      <td>1</td>\n",
       "      <td>2</td>\n",
       "      <td>130</td>\n",
       "      <td>250</td>\n",
       "      <td>0</td>\n",
       "      <td>1</td>\n",
       "      <td>187</td>\n",
       "      <td>0</td>\n",
       "      <td>3.5</td>\n",
       "      <td>0</td>\n",
       "      <td>0</td>\n",
       "      <td>2</td>\n",
       "      <td>1</td>\n",
       "    </tr>\n",
       "    <tr>\n",
       "      <th>2</th>\n",
       "      <td>41</td>\n",
       "      <td>0</td>\n",
       "      <td>1</td>\n",
       "      <td>130</td>\n",
       "      <td>204</td>\n",
       "      <td>0</td>\n",
       "      <td>0</td>\n",
       "      <td>172</td>\n",
       "      <td>0</td>\n",
       "      <td>1.4</td>\n",
       "      <td>2</td>\n",
       "      <td>0</td>\n",
       "      <td>2</td>\n",
       "      <td>1</td>\n",
       "    </tr>\n",
       "    <tr>\n",
       "      <th>3</th>\n",
       "      <td>56</td>\n",
       "      <td>1</td>\n",
       "      <td>1</td>\n",
       "      <td>120</td>\n",
       "      <td>236</td>\n",
       "      <td>0</td>\n",
       "      <td>1</td>\n",
       "      <td>178</td>\n",
       "      <td>0</td>\n",
       "      <td>0.8</td>\n",
       "      <td>2</td>\n",
       "      <td>0</td>\n",
       "      <td>2</td>\n",
       "      <td>1</td>\n",
       "    </tr>\n",
       "    <tr>\n",
       "      <th>4</th>\n",
       "      <td>57</td>\n",
       "      <td>0</td>\n",
       "      <td>0</td>\n",
       "      <td>120</td>\n",
       "      <td>354</td>\n",
       "      <td>0</td>\n",
       "      <td>1</td>\n",
       "      <td>163</td>\n",
       "      <td>1</td>\n",
       "      <td>0.6</td>\n",
       "      <td>2</td>\n",
       "      <td>0</td>\n",
       "      <td>2</td>\n",
       "      <td>1</td>\n",
       "    </tr>\n",
       "  </tbody>\n",
       "</table>\n",
       "</div>"
      ],
      "text/plain": [
       "   age  sex  cp  trtbps  chol  fbs  restecg  thalachh  exng  oldpeak  slp  \\\n",
       "0   63    1   3     145   233    1        0       150     0      2.3    0   \n",
       "1   37    1   2     130   250    0        1       187     0      3.5    0   \n",
       "2   41    0   1     130   204    0        0       172     0      1.4    2   \n",
       "3   56    1   1     120   236    0        1       178     0      0.8    2   \n",
       "4   57    0   0     120   354    0        1       163     1      0.6    2   \n",
       "\n",
       "   caa  thall  output  \n",
       "0    0      1       1  \n",
       "1    0      2       1  \n",
       "2    0      2       1  \n",
       "3    0      2       1  \n",
       "4    0      2       1  "
      ]
     },
     "execution_count": 161,
     "metadata": {},
     "output_type": "execute_result"
    }
   ],
   "source": [
    "import pandas as pd\n",
    "import numpy as np\n",
    "\n",
    "data = pd.read_csv('heart.csv')\n",
    "data.head()"
   ]
  },
  {
   "attachments": {},
   "cell_type": "markdown",
   "id": "3fa933be",
   "metadata": {},
   "source": [
    "### Prepare the dataset for training and testing"
   ]
  },
  {
   "cell_type": "code",
   "execution_count": 162,
   "id": "99b83a1c",
   "metadata": {},
   "outputs": [],
   "source": [
    "# Write code here to generate the train and test sets. (1 point)\n",
    "data = data.dropna()\n",
    "#print(data.head())\n",
    "\n",
    "X = data.iloc[:,[0,1,2,3,4,5,6,7,8,9,10,11,12]].values                                                # independent variables\n",
    "y = data.iloc[:,13].values                                                                          # dependent variables\n",
    "\n",
    "# SPLITTING THE DATA\n",
    "from sklearn.model_selection import train_test_split\n",
    "X_train, X_test, y_train, y_test = train_test_split(X, y, test_size=0.30, random_state=202006914)  "
   ]
  },
  {
   "attachments": {},
   "cell_type": "markdown",
   "id": "184a2f22",
   "metadata": {},
   "source": [
    "### Normalize the data\n",
    "StandardScaler rescales the data to have a mean of 0 and a standard deviation of 1."
   ]
  },
  {
   "cell_type": "code",
   "execution_count": 163,
   "id": "5869d3bb",
   "metadata": {},
   "outputs": [],
   "source": [
    "from sklearn.preprocessing import StandardScaler\n",
    "sc = StandardScaler()\n",
    "X_train = sc.fit_transform(X_train)\n",
    "X_test = sc.transform(X_test)"
   ]
  },
  {
   "attachments": {},
   "cell_type": "markdown",
   "id": "7d3690ac",
   "metadata": {},
   "source": [
    "### Train and test the model "
   ]
  },
  {
   "cell_type": "code",
   "execution_count": 164,
   "id": "c9773527",
   "metadata": {},
   "outputs": [
    {
     "data": {
      "text/plain": [
       "0.8131868131868132"
      ]
     },
     "execution_count": 164,
     "metadata": {},
     "output_type": "execute_result"
    }
   ],
   "source": [
    "# Write code here to train the model.(2 points)\n",
    "from sklearn.svm import SVC\n",
    "\n",
    "svc_model = SVC()\n",
    "svc_model.fit(X_train,y_train)\n",
    "\n",
    "predictions = svc_model.predict(X_test)\n",
    "\n",
    "from sklearn.metrics import accuracy_score\n",
    "accuracy_score(y_test, predictions)\n"
   ]
  },
  {
   "attachments": {},
   "cell_type": "markdown",
   "id": "328b8996",
   "metadata": {},
   "source": [
    "### Evaluating the model"
   ]
  },
  {
   "attachments": {},
   "cell_type": "markdown",
   "id": "3aae627d",
   "metadata": {},
   "source": [
    "### Generate the confusion matrix"
   ]
  },
  {
   "cell_type": "code",
   "execution_count": 165,
   "id": "92384f2a",
   "metadata": {},
   "outputs": [
    {
     "data": {
      "text/plain": [
       "Text(113.9222222222222, 0.5, 'true value')"
      ]
     },
     "execution_count": 165,
     "metadata": {},
     "output_type": "execute_result"
    },
    {
     "data": {
      "image/png": "[encoded data removed]",
      "text/plain": [
       "<Figure size 640x480 with 1 Axes>"
      ]
     },
     "metadata": {},
     "output_type": "display_data"
    }
   ],
   "source": [
    "# Write code here to generate the confusion matrix (1 point)\n",
    "from sklearn.metrics import classification_report,confusion_matrix\n",
    "import seaborn as sns\n",
    "import matplotlib.pyplot as plt\n",
    "\n",
    "mat = confusion_matrix(y_test,predictions)\n",
    "sns.heatmap(mat, square = True, annot = True, cbar = False)\n",
    "plt.xlabel('predicted value')\n",
    "plt.ylabel('true value')"
   ]
  },
  {
   "attachments": {},
   "cell_type": "markdown",
   "id": "0f177a2f",
   "metadata": {},
   "source": [
    "### Print the classification report"
   ]
  },
  {
   "cell_type": "code",
   "execution_count": 166,
   "id": "db4e6ce9",
   "metadata": {},
   "outputs": [
    {
     "name": "stdout",
     "output_type": "stream",
     "text": [
      "              precision    recall  f1-score   support\n",
      "\n",
      "           0       0.81      0.80      0.80        44\n",
      "           1       0.81      0.83      0.82        47\n",
      "\n",
      "    accuracy                           0.81        91\n",
      "   macro avg       0.81      0.81      0.81        91\n",
      "weighted avg       0.81      0.81      0.81        91\n",
      "\n"
     ]
    }
   ],
   "source": [
    "# Write code here to print the classification report (1 point)\n",
    "print(classification_report(y_test,predictions))"
   ]
  },
  {
   "attachments": {},
   "cell_type": "markdown",
   "id": "cc6df1e4",
   "metadata": {},
   "source": [
    "### Improve the model by hyperparameter tuning. Use GridSearchCV."
   ]
  },
  {
   "cell_type": "code",
   "execution_count": 167,
   "id": "365c665e",
   "metadata": {},
   "outputs": [
    {
     "name": "stdout",
     "output_type": "stream",
     "text": [
      "Fitting 5 folds for each of 49 candidates, totalling 245 fits\n",
      "[CV 1/5] END ....................C=0.1, gamma=1;, score=0.558 total time=   0.0s\n",
      "[CV 2/5] END ....................C=0.1, gamma=1;, score=0.558 total time=   0.0s\n",
      "[CV 3/5] END ....................C=0.1, gamma=1;, score=0.548 total time=   0.0s\n",
      "[CV 4/5] END ....................C=0.1, gamma=1;, score=0.548 total time=   0.0s\n",
      "[CV 5/5] END ....................C=0.1, gamma=1;, score=0.571 total time=   0.0s\n",
      "[CV 1/5] END ..................C=0.1, gamma=0.1;, score=0.791 total time=   0.0s\n",
      "[CV 2/5] END ..................C=0.1, gamma=0.1;, score=0.721 total time=   0.0s\n",
      "[CV 3/5] END ..................C=0.1, gamma=0.1;, score=0.714 total time=   0.0s\n",
      "[CV 4/5] END ..................C=0.1, gamma=0.1;, score=0.786 total time=   0.0s\n",
      "[CV 5/5] END ..................C=0.1, gamma=0.1;, score=0.786 total time=   0.0s\n",
      "[CV 1/5] END .................C=0.1, gamma=0.01;, score=0.674 total time=   0.0s\n",
      "[CV 2/5] END .................C=0.1, gamma=0.01;, score=0.628 total time=   0.0s\n",
      "[CV 3/5] END .................C=0.1, gamma=0.01;, score=0.595 total time=   0.0s\n",
      "[CV 4/5] END .................C=0.1, gamma=0.01;, score=0.619 total time=   0.0s\n",
      "[CV 5/5] END .................C=0.1, gamma=0.01;, score=0.667 total time=   0.0s\n",
      "[CV 1/5] END ................C=0.1, gamma=0.001;, score=0.558 total time=   0.0s\n",
      "[CV 2/5] END ................C=0.1, gamma=0.001;, score=0.558 total time=   0.0s\n",
      "[CV 3/5] END ................C=0.1, gamma=0.001;, score=0.548 total time=   0.0s\n",
      "[CV 4/5] END ................C=0.1, gamma=0.001;, score=0.548 total time=   0.0s\n",
      "[CV 5/5] END ................C=0.1, gamma=0.001;, score=0.571 total time=   0.0s\n",
      "[CV 1/5] END ...............C=0.1, gamma=0.0001;, score=0.558 total time=   0.0s\n",
      "[CV 2/5] END ...............C=0.1, gamma=0.0001;, score=0.558 total time=   0.0s\n",
      "[CV 3/5] END ...............C=0.1, gamma=0.0001;, score=0.548 total time=   0.0s\n",
      "[CV 4/5] END ...............C=0.1, gamma=0.0001;, score=0.548 total time=   0.0s\n",
      "[CV 5/5] END ...............C=0.1, gamma=0.0001;, score=0.571 total time=   0.0s\n",
      "[CV 1/5] END ................C=0.1, gamma=1e-05;, score=0.558 total time=   0.0s\n",
      "[CV 2/5] END ................C=0.1, gamma=1e-05;, score=0.558 total time=   0.0s\n",
      "[CV 3/5] END ................C=0.1, gamma=1e-05;, score=0.548 total time=   0.0s\n",
      "[CV 4/5] END ................C=0.1, gamma=1e-05;, score=0.548 total time=   0.0s\n",
      "[CV 5/5] END ................C=0.1, gamma=1e-05;, score=0.571 total time=   0.0s\n",
      "[CV 1/5] END ................C=0.1, gamma=1e-06;, score=0.558 total time=   0.0s\n",
      "[CV 2/5] END ................C=0.1, gamma=1e-06;, score=0.558 total time=   0.0s\n",
      "[CV 3/5] END ................C=0.1, gamma=1e-06;, score=0.548 total time=   0.0s\n",
      "[CV 4/5] END ................C=0.1, gamma=1e-06;, score=0.548 total time=   0.0s\n",
      "[CV 5/5] END ................C=0.1, gamma=1e-06;, score=0.571 total time=   0.0s\n",
      "[CV 1/5] END ......................C=1, gamma=1;, score=0.605 total time=   0.0s\n",
      "[CV 2/5] END ......................C=1, gamma=1;, score=0.558 total time=   0.0s\n",
      "[CV 3/5] END ......................C=1, gamma=1;, score=0.595 total time=   0.0s\n",
      "[CV 4/5] END ......................C=1, gamma=1;, score=0.571 total time=   0.0s\n",
      "[CV 5/5] END ......................C=1, gamma=1;, score=0.571 total time=   0.0s\n",
      "[CV 1/5] END ....................C=1, gamma=0.1;, score=0.791 total time=   0.0s\n",
      "[CV 2/5] END ....................C=1, gamma=0.1;, score=0.814 total time=   0.0s\n",
      "[CV 3/5] END ....................C=1, gamma=0.1;, score=0.833 total time=   0.0s\n",
      "[CV 4/5] END ....................C=1, gamma=0.1;, score=0.833 total time=   0.0s\n",
      "[CV 5/5] END ....................C=1, gamma=0.1;, score=0.738 total time=   0.0s\n",
      "[CV 1/5] END ...................C=1, gamma=0.01;, score=0.814 total time=   0.0s\n",
      "[CV 2/5] END ...................C=1, gamma=0.01;, score=0.837 total time=   0.0s\n",
      "[CV 3/5] END ...................C=1, gamma=0.01;, score=0.881 total time=   0.0s\n",
      "[CV 4/5] END ...................C=1, gamma=0.01;, score=0.857 total time=   0.0s\n",
      "[CV 5/5] END ...................C=1, gamma=0.01;, score=0.762 total time=   0.0s\n",
      "[CV 1/5] END ..................C=1, gamma=0.001;, score=0.791 total time=   0.0s\n",
      "[CV 2/5] END ..................C=1, gamma=0.001;, score=0.698 total time=   0.0s\n",
      "[CV 3/5] END ..................C=1, gamma=0.001;, score=0.714 total time=   0.0s\n",
      "[CV 4/5] END ..................C=1, gamma=0.001;, score=0.738 total time=   0.0s\n",
      "[CV 5/5] END ..................C=1, gamma=0.001;, score=0.762 total time=   0.0s\n",
      "[CV 1/5] END .................C=1, gamma=0.0001;, score=0.558 total time=   0.0s\n",
      "[CV 2/5] END .................C=1, gamma=0.0001;, score=0.558 total time=   0.0s\n",
      "[CV 3/5] END .................C=1, gamma=0.0001;, score=0.548 total time=   0.0s\n",
      "[CV 4/5] END .................C=1, gamma=0.0001;, score=0.548 total time=   0.0s\n",
      "[CV 5/5] END .................C=1, gamma=0.0001;, score=0.571 total time=   0.0s\n",
      "[CV 1/5] END ..................C=1, gamma=1e-05;, score=0.558 total time=   0.0s\n",
      "[CV 2/5] END ..................C=1, gamma=1e-05;, score=0.558 total time=   0.0s\n",
      "[CV 3/5] END ..................C=1, gamma=1e-05;, score=0.548 total time=   0.0s\n",
      "[CV 4/5] END ..................C=1, gamma=1e-05;, score=0.548 total time=   0.0s\n",
      "[CV 5/5] END ..................C=1, gamma=1e-05;, score=0.571 total time=   0.0s\n",
      "[CV 1/5] END ..................C=1, gamma=1e-06;, score=0.558 total time=   0.0s\n",
      "[CV 2/5] END ..................C=1, gamma=1e-06;, score=0.558 total time=   0.0s\n",
      "[CV 3/5] END ..................C=1, gamma=1e-06;, score=0.548 total time=   0.0s\n",
      "[CV 4/5] END ..................C=1, gamma=1e-06;, score=0.548 total time=   0.0s\n",
      "[CV 5/5] END ..................C=1, gamma=1e-06;, score=0.571 total time=   0.0s\n",
      "[CV 1/5] END .....................C=10, gamma=1;, score=0.605 total time=   0.0s\n",
      "[CV 2/5] END .....................C=10, gamma=1;, score=0.605 total time=   0.0s\n",
      "[CV 3/5] END .....................C=10, gamma=1;, score=0.595 total time=   0.0s\n",
      "[CV 4/5] END .....................C=10, gamma=1;, score=0.595 total time=   0.0s\n",
      "[CV 5/5] END .....................C=10, gamma=1;, score=0.595 total time=   0.0s\n",
      "[CV 1/5] END ...................C=10, gamma=0.1;, score=0.744 total time=   0.0s\n",
      "[CV 2/5] END ...................C=10, gamma=0.1;, score=0.744 total time=   0.0s\n",
      "[CV 3/5] END ...................C=10, gamma=0.1;, score=0.810 total time=   0.0s\n",
      "[CV 4/5] END ...................C=10, gamma=0.1;, score=0.810 total time=   0.0s\n",
      "[CV 5/5] END ...................C=10, gamma=0.1;, score=0.714 total time=   0.0s\n",
      "[CV 1/5] END ..................C=10, gamma=0.01;, score=0.837 total time=   0.0s\n",
      "[CV 2/5] END ..................C=10, gamma=0.01;, score=0.814 total time=   0.0s\n",
      "[CV 3/5] END ..................C=10, gamma=0.01;, score=0.881 total time=   0.0s\n",
      "[CV 4/5] END ..................C=10, gamma=0.01;, score=0.833 total time=   0.0s\n",
      "[CV 5/5] END ..................C=10, gamma=0.01;, score=0.738 total time=   0.0s\n",
      "[CV 1/5] END .................C=10, gamma=0.001;, score=0.814 total time=   0.0s\n",
      "[CV 2/5] END .................C=10, gamma=0.001;, score=0.837 total time=   0.0s\n",
      "[CV 3/5] END .................C=10, gamma=0.001;, score=0.881 total time=   0.0s\n",
      "[CV 4/5] END .................C=10, gamma=0.001;, score=0.857 total time=   0.0s\n",
      "[CV 5/5] END .................C=10, gamma=0.001;, score=0.738 total time=   0.0s\n",
      "[CV 1/5] END ................C=10, gamma=0.0001;, score=0.791 total time=   0.0s\n",
      "[CV 2/5] END ................C=10, gamma=0.0001;, score=0.744 total time=   0.0s\n",
      "[CV 3/5] END ................C=10, gamma=0.0001;, score=0.714 total time=   0.0s\n",
      "[CV 4/5] END ................C=10, gamma=0.0001;, score=0.738 total time=   0.0s\n",
      "[CV 5/5] END ................C=10, gamma=0.0001;, score=0.762 total time=   0.0s\n",
      "[CV 1/5] END .................C=10, gamma=1e-05;, score=0.558 total time=   0.0s\n",
      "[CV 2/5] END .................C=10, gamma=1e-05;, score=0.558 total time=   0.0s\n",
      "[CV 3/5] END .................C=10, gamma=1e-05;, score=0.548 total time=   0.0s\n",
      "[CV 4/5] END .................C=10, gamma=1e-05;, score=0.548 total time=   0.0s\n",
      "[CV 5/5] END .................C=10, gamma=1e-05;, score=0.571 total time=   0.0s\n",
      "[CV 1/5] END .................C=10, gamma=1e-06;, score=0.558 total time=   0.0s\n",
      "[CV 2/5] END .................C=10, gamma=1e-06;, score=0.558 total time=   0.0s\n",
      "[CV 3/5] END .................C=10, gamma=1e-06;, score=0.548 total time=   0.0s\n",
      "[CV 4/5] END .................C=10, gamma=1e-06;, score=0.548 total time=   0.0s\n",
      "[CV 5/5] END .................C=10, gamma=1e-06;, score=0.571 total time=   0.0s\n",
      "[CV 1/5] END ....................C=100, gamma=1;, score=0.605 total time=   0.0s\n",
      "[CV 2/5] END ....................C=100, gamma=1;, score=0.605 total time=   0.0s\n",
      "[CV 3/5] END ....................C=100, gamma=1;, score=0.595 total time=   0.0s\n",
      "[CV 4/5] END ....................C=100, gamma=1;, score=0.595 total time=   0.0s\n",
      "[CV 5/5] END ....................C=100, gamma=1;, score=0.595 total time=   0.0s\n",
      "[CV 1/5] END ..................C=100, gamma=0.1;, score=0.767 total time=   0.0s\n",
      "[CV 2/5] END ..................C=100, gamma=0.1;, score=0.744 total time=   0.0s\n",
      "[CV 3/5] END ..................C=100, gamma=0.1;, score=0.810 total time=   0.0s\n",
      "[CV 4/5] END ..................C=100, gamma=0.1;, score=0.786 total time=   0.0s\n",
      "[CV 5/5] END ..................C=100, gamma=0.1;, score=0.714 total time=   0.0s\n",
      "[CV 1/5] END .................C=100, gamma=0.01;, score=0.884 total time=   0.0s\n",
      "[CV 2/5] END .................C=100, gamma=0.01;, score=0.744 total time=   0.0s\n",
      "[CV 3/5] END .................C=100, gamma=0.01;, score=0.857 total time=   0.0s\n",
      "[CV 4/5] END .................C=100, gamma=0.01;, score=0.810 total time=   0.0s\n",
      "[CV 5/5] END .................C=100, gamma=0.01;, score=0.690 total time=   0.0s\n",
      "[CV 1/5] END ................C=100, gamma=0.001;, score=0.814 total time=   0.0s\n",
      "[CV 2/5] END ................C=100, gamma=0.001;, score=0.814 total time=   0.0s\n",
      "[CV 3/5] END ................C=100, gamma=0.001;, score=0.881 total time=   0.0s\n",
      "[CV 4/5] END ................C=100, gamma=0.001;, score=0.857 total time=   0.0s\n",
      "[CV 5/5] END ................C=100, gamma=0.001;, score=0.738 total time=   0.0s\n",
      "[CV 1/5] END ...............C=100, gamma=0.0001;, score=0.814 total time=   0.0s\n",
      "[CV 2/5] END ...............C=100, gamma=0.0001;, score=0.837 total time=   0.0s\n",
      "[CV 3/5] END ...............C=100, gamma=0.0001;, score=0.881 total time=   0.0s\n",
      "[CV 4/5] END ...............C=100, gamma=0.0001;, score=0.857 total time=   0.0s\n",
      "[CV 5/5] END ...............C=100, gamma=0.0001;, score=0.738 total time=   0.0s\n",
      "[CV 1/5] END ................C=100, gamma=1e-05;, score=0.791 total time=   0.0s\n",
      "[CV 2/5] END ................C=100, gamma=1e-05;, score=0.744 total time=   0.0s\n",
      "[CV 3/5] END ................C=100, gamma=1e-05;, score=0.714 total time=   0.0s\n",
      "[CV 4/5] END ................C=100, gamma=1e-05;, score=0.762 total time=   0.0s\n",
      "[CV 5/5] END ................C=100, gamma=1e-05;, score=0.762 total time=   0.0s\n",
      "[CV 1/5] END ................C=100, gamma=1e-06;, score=0.558 total time=   0.0s\n",
      "[CV 2/5] END ................C=100, gamma=1e-06;, score=0.558 total time=   0.0s\n",
      "[CV 3/5] END ................C=100, gamma=1e-06;, score=0.548 total time=   0.0s\n",
      "[CV 4/5] END ................C=100, gamma=1e-06;, score=0.548 total time=   0.0s\n",
      "[CV 5/5] END ................C=100, gamma=1e-06;, score=0.571 total time=   0.0s\n",
      "[CV 1/5] END ...................C=1000, gamma=1;, score=0.605 total time=   0.0s\n",
      "[CV 2/5] END ...................C=1000, gamma=1;, score=0.605 total time=   0.0s\n",
      "[CV 3/5] END ...................C=1000, gamma=1;, score=0.595 total time=   0.0s\n",
      "[CV 4/5] END ...................C=1000, gamma=1;, score=0.595 total time=   0.0s\n",
      "[CV 5/5] END ...................C=1000, gamma=1;, score=0.595 total time=   0.0s\n",
      "[CV 1/5] END .................C=1000, gamma=0.1;, score=0.767 total time=   0.0s\n",
      "[CV 2/5] END .................C=1000, gamma=0.1;, score=0.744 total time=   0.0s\n",
      "[CV 3/5] END .................C=1000, gamma=0.1;, score=0.810 total time=   0.0s\n",
      "[CV 4/5] END .................C=1000, gamma=0.1;, score=0.786 total time=   0.0s\n",
      "[CV 5/5] END .................C=1000, gamma=0.1;, score=0.714 total time=   0.0s\n",
      "[CV 1/5] END ................C=1000, gamma=0.01;, score=0.767 total time=   0.0s\n",
      "[CV 2/5] END ................C=1000, gamma=0.01;, score=0.674 total time=   0.0s\n",
      "[CV 3/5] END ................C=1000, gamma=0.01;, score=0.810 total time=   0.0s\n",
      "[CV 4/5] END ................C=1000, gamma=0.01;, score=0.762 total time=   0.0s\n",
      "[CV 5/5] END ................C=1000, gamma=0.01;, score=0.738 total time=   0.0s\n",
      "[CV 1/5] END ...............C=1000, gamma=0.001;, score=0.791 total time=   0.0s\n",
      "[CV 2/5] END ...............C=1000, gamma=0.001;, score=0.814 total time=   0.0s\n",
      "[CV 3/5] END ...............C=1000, gamma=0.001;, score=0.881 total time=   0.0s\n",
      "[CV 4/5] END ...............C=1000, gamma=0.001;, score=0.857 total time=   0.0s\n",
      "[CV 5/5] END ...............C=1000, gamma=0.001;, score=0.786 total time=   0.0s\n",
      "[CV 1/5] END ..............C=1000, gamma=0.0001;, score=0.814 total time=   0.0s\n",
      "[CV 2/5] END ..............C=1000, gamma=0.0001;, score=0.814 total time=   0.0s\n",
      "[CV 3/5] END ..............C=1000, gamma=0.0001;, score=0.881 total time=   0.0s\n",
      "[CV 4/5] END ..............C=1000, gamma=0.0001;, score=0.857 total time=   0.0s\n",
      "[CV 5/5] END ..............C=1000, gamma=0.0001;, score=0.738 total time=   0.0s\n",
      "[CV 1/5] END ...............C=1000, gamma=1e-05;, score=0.814 total time=   0.0s\n",
      "[CV 2/5] END ...............C=1000, gamma=1e-05;, score=0.837 total time=   0.0s\n",
      "[CV 3/5] END ...............C=1000, gamma=1e-05;, score=0.881 total time=   0.0s\n",
      "[CV 4/5] END ...............C=1000, gamma=1e-05;, score=0.857 total time=   0.0s\n",
      "[CV 5/5] END ...............C=1000, gamma=1e-05;, score=0.738 total time=   0.0s\n",
      "[CV 1/5] END ...............C=1000, gamma=1e-06;, score=0.791 total time=   0.0s\n",
      "[CV 2/5] END ...............C=1000, gamma=1e-06;, score=0.744 total time=   0.0s\n",
      "[CV 3/5] END ...............C=1000, gamma=1e-06;, score=0.714 total time=   0.0s\n",
      "[CV 4/5] END ...............C=1000, gamma=1e-06;, score=0.762 total time=   0.0s\n",
      "[CV 5/5] END ...............C=1000, gamma=1e-06;, score=0.762 total time=   0.0s\n",
      "[CV 1/5] END ..................C=10000, gamma=1;, score=0.605 total time=   0.0s\n",
      "[CV 2/5] END ..................C=10000, gamma=1;, score=0.605 total time=   0.0s\n",
      "[CV 3/5] END ..................C=10000, gamma=1;, score=0.595 total time=   0.0s\n",
      "[CV 4/5] END ..................C=10000, gamma=1;, score=0.595 total time=   0.0s\n",
      "[CV 5/5] END ..................C=10000, gamma=1;, score=0.595 total time=   0.0s\n",
      "[CV 1/5] END ................C=10000, gamma=0.1;, score=0.767 total time=   0.0s\n",
      "[CV 2/5] END ................C=10000, gamma=0.1;, score=0.744 total time=   0.0s\n",
      "[CV 3/5] END ................C=10000, gamma=0.1;, score=0.810 total time=   0.0s\n",
      "[CV 4/5] END ................C=10000, gamma=0.1;, score=0.786 total time=   0.0s\n",
      "[CV 5/5] END ................C=10000, gamma=0.1;, score=0.714 total time=   0.0s\n",
      "[CV 1/5] END ...............C=10000, gamma=0.01;, score=0.767 total time=   0.0s\n",
      "[CV 2/5] END ...............C=10000, gamma=0.01;, score=0.674 total time=   0.0s\n",
      "[CV 3/5] END ...............C=10000, gamma=0.01;, score=0.810 total time=   0.0s\n",
      "[CV 4/5] END ...............C=10000, gamma=0.01;, score=0.762 total time=   0.0s\n",
      "[CV 5/5] END ...............C=10000, gamma=0.01;, score=0.714 total time=   0.0s\n",
      "[CV 1/5] END ..............C=10000, gamma=0.001;, score=0.860 total time=   0.0s\n",
      "[CV 2/5] END ..............C=10000, gamma=0.001;, score=0.744 total time=   0.0s\n",
      "[CV 3/5] END ..............C=10000, gamma=0.001;, score=0.857 total time=   0.0s\n",
      "[CV 4/5] END ..............C=10000, gamma=0.001;, score=0.833 total time=   0.0s\n",
      "[CV 5/5] END ..............C=10000, gamma=0.001;, score=0.690 total time=   0.0s\n",
      "[CV 1/5] END .............C=10000, gamma=0.0001;, score=0.814 total time=   0.0s\n",
      "[CV 2/5] END .............C=10000, gamma=0.0001;, score=0.814 total time=   0.0s\n",
      "[CV 3/5] END .............C=10000, gamma=0.0001;, score=0.881 total time=   0.0s\n",
      "[CV 4/5] END .............C=10000, gamma=0.0001;, score=0.881 total time=   0.0s\n",
      "[CV 5/5] END .............C=10000, gamma=0.0001;, score=0.738 total time=   0.0s\n",
      "[CV 1/5] END ..............C=10000, gamma=1e-05;, score=0.814 total time=   0.0s\n",
      "[CV 2/5] END ..............C=10000, gamma=1e-05;, score=0.814 total time=   0.0s\n",
      "[CV 3/5] END ..............C=10000, gamma=1e-05;, score=0.881 total time=   0.0s\n",
      "[CV 4/5] END ..............C=10000, gamma=1e-05;, score=0.857 total time=   0.0s\n",
      "[CV 5/5] END ..............C=10000, gamma=1e-05;, score=0.738 total time=   0.0s\n",
      "[CV 1/5] END ..............C=10000, gamma=1e-06;, score=0.814 total time=   0.0s\n",
      "[CV 2/5] END ..............C=10000, gamma=1e-06;, score=0.837 total time=   0.0s\n",
      "[CV 3/5] END ..............C=10000, gamma=1e-06;, score=0.881 total time=   0.0s\n",
      "[CV 4/5] END ..............C=10000, gamma=1e-06;, score=0.857 total time=   0.0s\n",
      "[CV 5/5] END ..............C=10000, gamma=1e-06;, score=0.738 total time=   0.0s\n",
      "[CV 1/5] END .................C=100000, gamma=1;, score=0.605 total time=   0.0s\n",
      "[CV 2/5] END .................C=100000, gamma=1;, score=0.605 total time=   0.0s\n",
      "[CV 3/5] END .................C=100000, gamma=1;, score=0.595 total time=   0.0s\n",
      "[CV 4/5] END .................C=100000, gamma=1;, score=0.595 total time=   0.0s\n",
      "[CV 5/5] END .................C=100000, gamma=1;, score=0.595 total time=   0.0s\n",
      "[CV 1/5] END ...............C=100000, gamma=0.1;, score=0.767 total time=   0.0s\n",
      "[CV 2/5] END ...............C=100000, gamma=0.1;, score=0.744 total time=   0.0s\n",
      "[CV 3/5] END ...............C=100000, gamma=0.1;, score=0.810 total time=   0.0s\n",
      "[CV 4/5] END ...............C=100000, gamma=0.1;, score=0.786 total time=   0.0s\n",
      "[CV 5/5] END ...............C=100000, gamma=0.1;, score=0.714 total time=   0.0s\n",
      "[CV 1/5] END ..............C=100000, gamma=0.01;, score=0.767 total time=   0.0s\n",
      "[CV 2/5] END ..............C=100000, gamma=0.01;, score=0.674 total time=   0.0s\n",
      "[CV 3/5] END ..............C=100000, gamma=0.01;, score=0.810 total time=   0.0s\n",
      "[CV 4/5] END ..............C=100000, gamma=0.01;, score=0.762 total time=   0.0s\n",
      "[CV 5/5] END ..............C=100000, gamma=0.01;, score=0.714 total time=   0.0s\n",
      "[CV 1/5] END .............C=100000, gamma=0.001;, score=0.814 total time=   0.0s\n",
      "[CV 2/5] END .............C=100000, gamma=0.001;, score=0.674 total time=   0.0s\n",
      "[CV 3/5] END .............C=100000, gamma=0.001;, score=0.833 total time=   0.0s\n",
      "[CV 4/5] END .............C=100000, gamma=0.001;, score=0.762 total time=   0.0s\n",
      "[CV 5/5] END .............C=100000, gamma=0.001;, score=0.738 total time=   0.0s\n",
      "[CV 1/5] END ............C=100000, gamma=0.0001;, score=0.791 total time=   0.0s\n",
      "[CV 2/5] END ............C=100000, gamma=0.0001;, score=0.814 total time=   0.0s\n",
      "[CV 3/5] END ............C=100000, gamma=0.0001;, score=0.881 total time=   0.0s\n",
      "[CV 4/5] END ............C=100000, gamma=0.0001;, score=0.857 total time=   0.0s\n",
      "[CV 5/5] END ............C=100000, gamma=0.0001;, score=0.762 total time=   0.0s\n",
      "[CV 1/5] END .............C=100000, gamma=1e-05;, score=0.814 total time=   0.0s\n",
      "[CV 2/5] END .............C=100000, gamma=1e-05;, score=0.814 total time=   0.0s\n",
      "[CV 3/5] END .............C=100000, gamma=1e-05;, score=0.881 total time=   0.0s\n",
      "[CV 4/5] END .............C=100000, gamma=1e-05;, score=0.881 total time=   0.0s\n",
      "[CV 5/5] END .............C=100000, gamma=1e-05;, score=0.714 total time=   0.0s\n",
      "[CV 1/5] END .............C=100000, gamma=1e-06;, score=0.814 total time=   0.0s\n",
      "[CV 2/5] END .............C=100000, gamma=1e-06;, score=0.837 total time=   0.0s\n",
      "[CV 3/5] END .............C=100000, gamma=1e-06;, score=0.881 total time=   0.0s\n",
      "[CV 4/5] END .............C=100000, gamma=1e-06;, score=0.857 total time=   0.0s\n",
      "[CV 5/5] END .............C=100000, gamma=1e-06;, score=0.714 total time=   0.0s\n"
     ]
    },
    {
     "data": {
      "text/html": [
       "<style>#sk-container-id-16 {color: black;background-color: white;}#sk-container-id-16 pre{padding: 0;}#sk-container-id-16 div.sk-toggleable {background-color: white;}#sk-container-id-16 label.sk-toggleable__label {cursor: pointer;display: block;width: 100%;margin-bottom: 0;padding: 0.3em;box-sizing: border-box;text-align: center;}#sk-container-id-16 label.sk-toggleable__label-arrow:before {content: \"▸\";float: left;margin-right: 0.25em;color: #696969;}#sk-container-id-16 label.sk-toggleable__label-arrow:hover:before {color: black;}#sk-container-id-16 div.sk-estimator:hover label.sk-toggleable__label-arrow:before {color: black;}#sk-container-id-16 div.sk-toggleable__content {max-height: 0;max-width: 0;overflow: hidden;text-align: left;background-color: #f0f8ff;}#sk-container-id-16 div.sk-toggleable__content pre {margin: 0.2em;color: black;border-radius: 0.25em;background-color: #f0f8ff;}#sk-container-id-16 input.sk-toggleable__control:checked~div.sk-toggleable__content {max-height: 200px;max-width: 100%;overflow: auto;}#sk-container-id-16 input.sk-toggleable__control:checked~label.sk-toggleable__label-arrow:before {content: \"▾\";}#sk-container-id-16 div.sk-estimator input.sk-toggleable__control:checked~label.sk-toggleable__label {background-color: #d4ebff;}#sk-container-id-16 div.sk-label input.sk-toggleable__control:checked~label.sk-toggleable__label {background-color: #d4ebff;}#sk-container-id-16 input.sk-hidden--visually {border: 0;clip: rect(1px 1px 1px 1px);clip: rect(1px, 1px, 1px, 1px);height: 1px;margin: -1px;overflow: hidden;padding: 0;position: absolute;width: 1px;}#sk-container-id-16 div.sk-estimator {font-family: monospace;background-color: #f0f8ff;border: 1px dotted black;border-radius: 0.25em;box-sizing: border-box;margin-bottom: 0.5em;}#sk-container-id-16 div.sk-estimator:hover {background-color: #d4ebff;}#sk-container-id-16 div.sk-parallel-item::after {content: \"\";width: 100%;border-bottom: 1px solid gray;flex-grow: 1;}#sk-container-id-16 div.sk-label:hover label.sk-toggleable__label {background-color: #d4ebff;}#sk-container-id-16 div.sk-serial::before {content: \"\";position: absolute;border-left: 1px solid gray;box-sizing: border-box;top: 0;bottom: 0;left: 50%;z-index: 0;}#sk-container-id-16 div.sk-serial {display: flex;flex-direction: column;align-items: center;background-color: white;padding-right: 0.2em;padding-left: 0.2em;position: relative;}#sk-container-id-16 div.sk-item {position: relative;z-index: 1;}#sk-container-id-16 div.sk-parallel {display: flex;align-items: stretch;justify-content: center;background-color: white;position: relative;}#sk-container-id-16 div.sk-item::before, #sk-container-id-16 div.sk-parallel-item::before {content: \"\";position: absolute;border-left: 1px solid gray;box-sizing: border-box;top: 0;bottom: 0;left: 50%;z-index: -1;}#sk-container-id-16 div.sk-parallel-item {display: flex;flex-direction: column;z-index: 1;position: relative;background-color: white;}#sk-container-id-16 div.sk-parallel-item:first-child::after {align-self: flex-end;width: 50%;}#sk-container-id-16 div.sk-parallel-item:last-child::after {align-self: flex-start;width: 50%;}#sk-container-id-16 div.sk-parallel-item:only-child::after {width: 0;}#sk-container-id-16 div.sk-dashed-wrapped {border: 1px dashed gray;margin: 0 0.4em 0.5em 0.4em;box-sizing: border-box;padding-bottom: 0.4em;background-color: white;}#sk-container-id-16 div.sk-label label {font-family: monospace;font-weight: bold;display: inline-block;line-height: 1.2em;}#sk-container-id-16 div.sk-label-container {text-align: center;}#sk-container-id-16 div.sk-container {/* jupyter's `normalize.less` sets `[hidden] { display: none; }` but bootstrap.min.css set `[hidden] { display: none !important; }` so we also need the `!important` here to be able to override the default hidden behavior on the sphinx rendered scikit-learn.org. See: https://github.com/scikit-learn/scikit-learn/issues/21755 */display: inline-block !important;position: relative;}#sk-container-id-16 div.sk-text-repr-fallback {display: none;}</style><div id=\"sk-container-id-16\" class=\"sk-top-container\"><div class=\"sk-text-repr-fallback\"><pre>GridSearchCV(estimator=SVC(),\n",
       "             param_grid={&#x27;C&#x27;: [0.1, 1, 10, 100, 1000, 10000, 100000],\n",
       "                         &#x27;gamma&#x27;: [1, 0.1, 0.01, 0.001, 0.0001, 1e-05, 1e-06]},\n",
       "             verbose=3)</pre><b>In a Jupyter environment, please rerun this cell to show the HTML representation or trust the notebook. <br />On GitHub, the HTML representation is unable to render, please try loading this page with nbviewer.org.</b></div><div class=\"sk-container\" hidden><div class=\"sk-item sk-dashed-wrapped\"><div class=\"sk-label-container\"><div class=\"sk-label sk-toggleable\"><input class=\"sk-toggleable__control sk-hidden--visually\" id=\"sk-estimator-id-46\" type=\"checkbox\" ><label for=\"sk-estimator-id-46\" class=\"sk-toggleable__label sk-toggleable__label-arrow\">GridSearchCV</label><div class=\"sk-toggleable__content\"><pre>GridSearchCV(estimator=SVC(),\n",
       "             param_grid={&#x27;C&#x27;: [0.1, 1, 10, 100, 1000, 10000, 100000],\n",
       "                         &#x27;gamma&#x27;: [1, 0.1, 0.01, 0.001, 0.0001, 1e-05, 1e-06]},\n",
       "             verbose=3)</pre></div></div></div><div class=\"sk-parallel\"><div class=\"sk-parallel-item\"><div class=\"sk-item\"><div class=\"sk-label-container\"><div class=\"sk-label sk-toggleable\"><input class=\"sk-toggleable__control sk-hidden--visually\" id=\"sk-estimator-id-47\" type=\"checkbox\" ><label for=\"sk-estimator-id-47\" class=\"sk-toggleable__label sk-toggleable__label-arrow\">estimator: SVC</label><div class=\"sk-toggleable__content\"><pre>SVC()</pre></div></div></div><div class=\"sk-serial\"><div class=\"sk-item\"><div class=\"sk-estimator sk-toggleable\"><input class=\"sk-toggleable__control sk-hidden--visually\" id=\"sk-estimator-id-48\" type=\"checkbox\" ><label for=\"sk-estimator-id-48\" class=\"sk-toggleable__label sk-toggleable__label-arrow\">SVC</label><div class=\"sk-toggleable__content\"><pre>SVC()</pre></div></div></div></div></div></div></div></div></div></div>"
      ],
      "text/plain": [
       "GridSearchCV(estimator=SVC(),\n",
       "             param_grid={'C': [0.1, 1, 10, 100, 1000, 10000, 100000],\n",
       "                         'gamma': [1, 0.1, 0.01, 0.001, 0.0001, 1e-05, 1e-06]},\n",
       "             verbose=3)"
      ]
     },
     "execution_count": 167,
     "metadata": {},
     "output_type": "execute_result"
    }
   ],
   "source": [
    "# Write code here to tune your hyperparameter. You can decide what parameter and values to use. (5 points)\n",
    "from sklearn.model_selection import GridSearchCV\n",
    "\n",
    "# defining parameter range\n",
    "param_grid = {'C': [0.1, 1, 10, 100, 1000, 10000, 100000], 'gamma': [1, 0.1, 0.01, 0.001, 0.0001, 0.00001, 0.000001]} \n",
    "  \n",
    "grid = GridSearchCV(SVC(), param_grid, refit = True, verbose = 3)\n",
    "grid.fit(X_train,y_train)\n",
    "\n"
   ]
  },
  {
   "attachments": {},
   "cell_type": "markdown",
   "id": "99cc6b13",
   "metadata": {},
   "source": [
    "### Show the best parameters found and use them to generate the predictions."
   ]
  },
  {
   "cell_type": "code",
   "execution_count": 168,
   "id": "ebfe2dd5",
   "metadata": {},
   "outputs": [
    {
     "data": {
      "text/plain": [
       "0.8461538461538461"
      ]
     },
     "execution_count": 168,
     "metadata": {},
     "output_type": "execute_result"
    }
   ],
   "source": [
    "# Write code here to show the best parameter found and then generate the predictions using these. (2 points)\n",
    "grid.best_params_\n",
    "grid_predictions = grid.predict(X_test)\n",
    "accuracy_score(y_test, grid_predictions)"
   ]
  },
  {
   "attachments": {},
   "cell_type": "markdown",
   "id": "0f4395b0",
   "metadata": {},
   "source": [
    "### Display the confusion matrix "
   ]
  },
  {
   "cell_type": "code",
   "execution_count": 169,
   "id": "a6386815",
   "metadata": {},
   "outputs": [
    {
     "data": {
      "text/plain": [
       "Text(113.9222222222222, 0.5, 'true value')"
      ]
     },
     "execution_count": 169,
     "metadata": {},
     "output_type": "execute_result"
    },
    {
     "data": {
      "image/png": "[encoded data removed]",
      "text/plain": [
       "<Figure size 640x480 with 1 Axes>"
      ]
     },
     "metadata": {},
     "output_type": "display_data"
    }
   ],
   "source": [
    "# Write code here to display the confusion matrix of the new results. (1 point)\n",
    "\n",
    "mat = confusion_matrix(y_test,grid_predictions)\n",
    "sns.heatmap(mat, square = True, annot = True, cbar = False)\n",
    "plt.xlabel('predicted value')\n",
    "plt.ylabel('true value')"
   ]
  },
  {
   "attachments": {},
   "cell_type": "markdown",
   "id": "13381fad",
   "metadata": {},
   "source": [
    "### Display the classification report"
   ]
  },
  {
   "cell_type": "code",
   "execution_count": 170,
   "id": "a259533c",
   "metadata": {},
   "outputs": [
    {
     "name": "stdout",
     "output_type": "stream",
     "text": [
      "              precision    recall  f1-score   support\n",
      "\n",
      "           0       0.86      0.82      0.84        44\n",
      "           1       0.84      0.87      0.85        47\n",
      "\n",
      "    accuracy                           0.85        91\n",
      "   macro avg       0.85      0.85      0.85        91\n",
      "weighted avg       0.85      0.85      0.85        91\n",
      "\n"
     ]
    }
   ],
   "source": [
    "# Write code here to print the classification report of the model with the best parameter found. (1 point)\n",
    "print(classification_report(y_test,grid_predictions))"
   ]
  },
  {
   "attachments": {},
   "cell_type": "markdown",
   "id": "341973b2",
   "metadata": {},
   "source": [
    "### Conclusion"
   ]
  },
  {
   "cell_type": "code",
   "execution_count": 173,
   "id": "b3db19ec",
   "metadata": {},
   "outputs": [
    {
     "ename": "ValueError",
     "evalue": "Expected 2D array, got 1D array instead:\narray=[ 63.    1.    3.  145.  233.    1.    0.  150.    0.    2.3   0.    0.\n   1. ].\nReshape your data either using array.reshape(-1, 1) if your data has a single feature or array.reshape(1, -1) if it contains a single sample.",
     "output_type": "error",
     "traceback": [
      "\u001b[1;31m---------------------------------------------------------------------------\u001b[0m",
      "\u001b[1;31mValueError\u001b[0m                                Traceback (most recent call last)",
      "Cell \u001b[1;32mIn[173], line 5\u001b[0m\n\u001b[0;32m      2\u001b[0m vect \u001b[39m=\u001b[39m CountVectorizer()\n\u001b[0;32m      4\u001b[0m parameters \u001b[39m=\u001b[39m [\u001b[39m63\u001b[39m, \u001b[39m1\u001b[39m, \u001b[39m3\u001b[39m, \u001b[39m145\u001b[39m, \u001b[39m233\u001b[39m, \u001b[39m1\u001b[39m, \u001b[39m0\u001b[39m, \u001b[39m150\u001b[39m, \u001b[39m0\u001b[39m, \u001b[39m2.3\u001b[39m, \u001b[39m0\u001b[39m, \u001b[39m0\u001b[39m, \u001b[39m1\u001b[39m]\n\u001b[1;32m----> 5\u001b[0m x \u001b[39m=\u001b[39m sc\u001b[39m.\u001b[39;49mtransform(parameters)\n\u001b[0;32m      6\u001b[0m y \u001b[39m=\u001b[39m svc_model\u001b[39m.\u001b[39mpredict(x)\n",
      "File \u001b[1;32mc:\\Users\\59cha\\Downloads\\VitalCheck\\.venv\\Lib\\site-packages\\sklearn\\utils\\_set_output.py:140\u001b[0m, in \u001b[0;36m_wrap_method_output.<locals>.wrapped\u001b[1;34m(self, X, *args, **kwargs)\u001b[0m\n\u001b[0;32m    138\u001b[0m \u001b[39m@wraps\u001b[39m(f)\n\u001b[0;32m    139\u001b[0m \u001b[39mdef\u001b[39;00m \u001b[39mwrapped\u001b[39m(\u001b[39mself\u001b[39m, X, \u001b[39m*\u001b[39margs, \u001b[39m*\u001b[39m\u001b[39m*\u001b[39mkwargs):\n\u001b[1;32m--> 140\u001b[0m     data_to_wrap \u001b[39m=\u001b[39m f(\u001b[39mself\u001b[39;49m, X, \u001b[39m*\u001b[39;49margs, \u001b[39m*\u001b[39;49m\u001b[39m*\u001b[39;49mkwargs)\n\u001b[0;32m    141\u001b[0m     \u001b[39mif\u001b[39;00m \u001b[39misinstance\u001b[39m(data_to_wrap, \u001b[39mtuple\u001b[39m):\n\u001b[0;32m    142\u001b[0m         \u001b[39m# only wrap the first output for cross decomposition\u001b[39;00m\n\u001b[0;32m    143\u001b[0m         \u001b[39mreturn\u001b[39;00m (\n\u001b[0;32m    144\u001b[0m             _wrap_data_with_container(method, data_to_wrap[\u001b[39m0\u001b[39m], X, \u001b[39mself\u001b[39m),\n\u001b[0;32m    145\u001b[0m             \u001b[39m*\u001b[39mdata_to_wrap[\u001b[39m1\u001b[39m:],\n\u001b[0;32m    146\u001b[0m         )\n",
      "File \u001b[1;32mc:\\Users\\59cha\\Downloads\\VitalCheck\\.venv\\Lib\\site-packages\\sklearn\\preprocessing\\_data.py:992\u001b[0m, in \u001b[0;36mStandardScaler.transform\u001b[1;34m(self, X, copy)\u001b[0m\n\u001b[0;32m    989\u001b[0m check_is_fitted(\u001b[39mself\u001b[39m)\n\u001b[0;32m    991\u001b[0m copy \u001b[39m=\u001b[39m copy \u001b[39mif\u001b[39;00m copy \u001b[39mis\u001b[39;00m \u001b[39mnot\u001b[39;00m \u001b[39mNone\u001b[39;00m \u001b[39melse\u001b[39;00m \u001b[39mself\u001b[39m\u001b[39m.\u001b[39mcopy\n\u001b[1;32m--> 992\u001b[0m X \u001b[39m=\u001b[39m \u001b[39mself\u001b[39;49m\u001b[39m.\u001b[39;49m_validate_data(\n\u001b[0;32m    993\u001b[0m     X,\n\u001b[0;32m    994\u001b[0m     reset\u001b[39m=\u001b[39;49m\u001b[39mFalse\u001b[39;49;00m,\n\u001b[0;32m    995\u001b[0m     accept_sparse\u001b[39m=\u001b[39;49m\u001b[39m\"\u001b[39;49m\u001b[39mcsr\u001b[39;49m\u001b[39m\"\u001b[39;49m,\n\u001b[0;32m    996\u001b[0m     copy\u001b[39m=\u001b[39;49mcopy,\n\u001b[0;32m    997\u001b[0m     dtype\u001b[39m=\u001b[39;49mFLOAT_DTYPES,\n\u001b[0;32m    998\u001b[0m     force_all_finite\u001b[39m=\u001b[39;49m\u001b[39m\"\u001b[39;49m\u001b[39mallow-nan\u001b[39;49m\u001b[39m\"\u001b[39;49m,\n\u001b[0;32m    999\u001b[0m )\n\u001b[0;32m   1001\u001b[0m \u001b[39mif\u001b[39;00m sparse\u001b[39m.\u001b[39missparse(X):\n\u001b[0;32m   1002\u001b[0m     \u001b[39mif\u001b[39;00m \u001b[39mself\u001b[39m\u001b[39m.\u001b[39mwith_mean:\n",
      "File \u001b[1;32mc:\\Users\\59cha\\Downloads\\VitalCheck\\.venv\\Lib\\site-packages\\sklearn\\base.py:565\u001b[0m, in \u001b[0;36mBaseEstimator._validate_data\u001b[1;34m(self, X, y, reset, validate_separately, **check_params)\u001b[0m\n\u001b[0;32m    563\u001b[0m     \u001b[39mraise\u001b[39;00m \u001b[39mValueError\u001b[39;00m(\u001b[39m\"\u001b[39m\u001b[39mValidation should be done on X, y or both.\u001b[39m\u001b[39m\"\u001b[39m)\n\u001b[0;32m    564\u001b[0m \u001b[39melif\u001b[39;00m \u001b[39mnot\u001b[39;00m no_val_X \u001b[39mand\u001b[39;00m no_val_y:\n\u001b[1;32m--> 565\u001b[0m     X \u001b[39m=\u001b[39m check_array(X, input_name\u001b[39m=\u001b[39;49m\u001b[39m\"\u001b[39;49m\u001b[39mX\u001b[39;49m\u001b[39m\"\u001b[39;49m, \u001b[39m*\u001b[39;49m\u001b[39m*\u001b[39;49mcheck_params)\n\u001b[0;32m    566\u001b[0m     out \u001b[39m=\u001b[39m X\n\u001b[0;32m    567\u001b[0m \u001b[39melif\u001b[39;00m no_val_X \u001b[39mand\u001b[39;00m \u001b[39mnot\u001b[39;00m no_val_y:\n",
      "File \u001b[1;32mc:\\Users\\59cha\\Downloads\\VitalCheck\\.venv\\Lib\\site-packages\\sklearn\\utils\\validation.py:902\u001b[0m, in \u001b[0;36mcheck_array\u001b[1;34m(array, accept_sparse, accept_large_sparse, dtype, order, copy, force_all_finite, ensure_2d, allow_nd, ensure_min_samples, ensure_min_features, estimator, input_name)\u001b[0m\n\u001b[0;32m    900\u001b[0m     \u001b[39m# If input is 1D raise error\u001b[39;00m\n\u001b[0;32m    901\u001b[0m     \u001b[39mif\u001b[39;00m array\u001b[39m.\u001b[39mndim \u001b[39m==\u001b[39m \u001b[39m1\u001b[39m:\n\u001b[1;32m--> 902\u001b[0m         \u001b[39mraise\u001b[39;00m \u001b[39mValueError\u001b[39;00m(\n\u001b[0;32m    903\u001b[0m             \u001b[39m\"\u001b[39m\u001b[39mExpected 2D array, got 1D array instead:\u001b[39m\u001b[39m\\n\u001b[39;00m\u001b[39marray=\u001b[39m\u001b[39m{}\u001b[39;00m\u001b[39m.\u001b[39m\u001b[39m\\n\u001b[39;00m\u001b[39m\"\u001b[39m\n\u001b[0;32m    904\u001b[0m             \u001b[39m\"\u001b[39m\u001b[39mReshape your data either using array.reshape(-1, 1) if \u001b[39m\u001b[39m\"\u001b[39m\n\u001b[0;32m    905\u001b[0m             \u001b[39m\"\u001b[39m\u001b[39myour data has a single feature or array.reshape(1, -1) \u001b[39m\u001b[39m\"\u001b[39m\n\u001b[0;32m    906\u001b[0m             \u001b[39m\"\u001b[39m\u001b[39mif it contains a single sample.\u001b[39m\u001b[39m\"\u001b[39m\u001b[39m.\u001b[39mformat(array)\n\u001b[0;32m    907\u001b[0m         )\n\u001b[0;32m    909\u001b[0m \u001b[39mif\u001b[39;00m dtype_numeric \u001b[39mand\u001b[39;00m array\u001b[39m.\u001b[39mdtype\u001b[39m.\u001b[39mkind \u001b[39min\u001b[39;00m \u001b[39m\"\u001b[39m\u001b[39mUSV\u001b[39m\u001b[39m\"\u001b[39m:\n\u001b[0;32m    910\u001b[0m     \u001b[39mraise\u001b[39;00m \u001b[39mValueError\u001b[39;00m(\n\u001b[0;32m    911\u001b[0m         \u001b[39m\"\u001b[39m\u001b[39mdtype=\u001b[39m\u001b[39m'\u001b[39m\u001b[39mnumeric\u001b[39m\u001b[39m'\u001b[39m\u001b[39m is not compatible with arrays of bytes/strings.\u001b[39m\u001b[39m\"\u001b[39m\n\u001b[0;32m    912\u001b[0m         \u001b[39m\"\u001b[39m\u001b[39mConvert your data to numeric values explicitly instead.\u001b[39m\u001b[39m\"\u001b[39m\n\u001b[0;32m    913\u001b[0m     )\n",
      "\u001b[1;31mValueError\u001b[0m: Expected 2D array, got 1D array instead:\narray=[ 63.    1.    3.  145.  233.    1.    0.  150.    0.    2.3   0.    0.\n   1. ].\nReshape your data either using array.reshape(-1, 1) if your data has a single feature or array.reshape(1, -1) if it contains a single sample."
     ]
    }
   ],
   "source": [
    "from sklearn.feature_extraction.text import CountVectorizer\n",
    "vect = CountVectorizer()\n",
    "\n",
    "parameters = [:,[63, 1, 3, 145, 233, 1, 0, 150, 0, 2.3, 0, 0, 1]]\n",
    "x = sc.transform(parameters)\n",
    "y = svc_model.predict(x)"
   ]
  }
 ],
 "metadata": {
  "kernelspec": {
   "display_name": "Python 3 (ipykernel)",
   "language": "python",
   "name": "python3"
  },
  "language_info": {
   "codemirror_mode": {
    "name": "ipython",
    "version": 3
   },
   "file_extension": ".py",
   "mimetype": "text/x-python",
   "name": "python",
   "nbconvert_exporter": "python",
   "pygments_lexer": "ipython3",
   "version": "3.11.3"
  }
 },
 "nbformat": 4,
 "nbformat_minor": 5
}
